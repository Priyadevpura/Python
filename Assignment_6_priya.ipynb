{
  "nbformat": 4,
  "nbformat_minor": 0,
  "metadata": {
    "colab": {
      "provenance": []
    },
    "kernelspec": {
      "name": "python3",
      "display_name": "Python 3"
    },
    "language_info": {
      "name": "python"
    }
  },
  "cells": [
    {
      "cell_type": "markdown",
      "source": [
        "# Question 1\n",
        "\n",
        "For the following scenarios explain why you would use a prediction versus an inference model. Stress on why you think the scenarios demand accuracy or interpretability -\n",
        "\n",
        "1. Your company is preparing to launch a new product, and you want to understand the key factors influencing its success in the market.\n",
        "\n",
        "2. Your telecommunications company wants to reduce customer churn by identifying at-risk customers.\n",
        "\n",
        "3. Your company is launching a new product and wants to understand how changes in pricing may impact sales.\n",
        "\n",
        "4. Your company is launching a new product and wants to understand what should be the optimal price of the product.\n",
        "\n",
        "5. Ad Campaign Optimization Your company is running an online advertising campaign and wants to maximize click-through rates and conversion rates."
      ],
      "metadata": {
        "id": "QpvBuzCruD3C"
      }
    },
    {
      "cell_type": "markdown",
      "source": [
        "1. In this scenario we will use prediction model.The goal is likely to identify and quantify the key factors that will influence the success of the new product. A predictive model could analyze historical data and make predictions about how different variables are likely to impact the product's success.\n",
        "\n",
        "2. For reducing customer churn, an interpretability-focused inference model may be more suitable. Identifying at-risk customers requires understanding the reasons behind their potential churn. An interpretable model can provide insights into the factors contributing to churn, allowing the company to take specific actions to retain customers. Interpretability is essential in this case, as it helps in making targeted interventions based on the identified factors, thereby reducing churn effectively.\n",
        "\n",
        "3.  A prediction model would be beneficial in this case. The goal is likely to forecast how changes in pricing will impact sales. A predictive model can analyze historical sales data along with different pricing scenarios to predict future sales under various price points. Accuracy is important here to ensure that pricing decisions are based on reliable forecasts, ultimately maximizing sales.\n",
        "\n",
        "4. In this scenario, an interpretable model would be preferred. The focus is on understanding what the optimal price should be. An interpretable model can provide clear insights into the relationship between price and sales, making it easier for decision-makers to understand and trust the model's recommendations. Interpretability is crucial when determining the optimal price, as decision-makers need to have confidence in the rationale behind the recommended pricing strategy.\n",
        "\n",
        "\n",
        "5. For ad campaign optimization, a prediction model would be suitable. The goal is to maximize click-through rates and conversion rates, and a predictive model can analyze various features to predict the likelihood of clicks and conversions. Accuracy is key here because the company wants to optimize its ad spend by focusing on the most effective strategies, and accurate predictions are essential for achieving this goal."
      ],
      "metadata": {
        "id": "hVFme7k30bLy"
      }
    },
    {
      "cell_type": "markdown",
      "source": [
        "# Question 2\n",
        "\n",
        "For this question you will need to dowload the `customer_database` zip folder from Canvas.\n",
        "\n",
        "Import the `customer_demographics.csv` and `customer_transactions` dataset using pandas. Merge `customer_transactions` to `customer_demographics.csv` dataset using an appropriate key.\n",
        "\n",
        "Your task is to create an appropriate model for predicting list price. You are free to use any number of independent variables from the dataset above as predictors.\n",
        "\n",
        "Next, create two other alternative models. Compare the prediction performance of all the models and comment on which model should be picked. You must fine tune models whenever possible."
      ],
      "metadata": {
        "id": "y5IShEeiu8AO"
      }
    },
    {
      "cell_type": "code",
      "source": [
        "import pandas as pd\n",
        "\n",
        "cust_demo = pd.read_csv(\"customer_demographics.csv\")\n",
        "cust_trans = pd.read_csv(\"customer_transactions.csv\")\n",
        "\n",
        "print(cust_demo)\n"
      ],
      "metadata": {
        "colab": {
          "base_uri": "https://localhost:8080/"
        },
        "id": "noZMsVeJgsUd",
        "outputId": "14e7b27c-59cc-4489-c40d-003e7a71bc49"
      },
      "execution_count": null,
      "outputs": [
        {
          "output_type": "stream",
          "name": "stdout",
          "text": [
            "      customer_id               name  gender  \\\n",
            "0              34  Jephthah Bachmann       U   \n",
            "1             144    Jory Barrabeale       U   \n",
            "2             168   Reggie Broggetti       U   \n",
            "3             267      Edgar Buckler       U   \n",
            "4             290     Giorgio Kevane       U   \n",
            "...           ...                ...     ...   \n",
            "3995         2858    Benedicto Radki    Male   \n",
            "3996         3173            Angelo     Male   \n",
            "3997         3435    Stevena Allcock  Female   \n",
            "3998         3949  Costa Sleightholm    Male   \n",
            "3999         3997      Blanch Nisuis  Female   \n",
            "\n",
            "      past_3_years_bike_related_purchases         DOB    age  \\\n",
            "0                                      59  1843-12-21  123.0   \n",
            "1                                      71         NaN  123.0   \n",
            "2                                       8         NaN  123.0   \n",
            "3                                      53         NaN  123.0   \n",
            "4                                      42         NaN  123.0   \n",
            "...                                   ...         ...    ...   \n",
            "3995                                    4  2002-01-09   21.0   \n",
            "3996                                   55  2001-10-10   21.0   \n",
            "3997                                   80  2002-01-15   21.0   \n",
            "3998                                   24  2001-12-19   21.0   \n",
            "3999                                   87  2001-07-13   22.0   \n",
            "\n",
            "                       job_title job_industry_category     wealth_segment  \\\n",
            "0                Legal Assistant                    IT  Affluent Customer   \n",
            "1             Environmental Tech                    IT      Mass Customer   \n",
            "2                General Manager                    IT  Affluent Customer   \n",
            "3                            NaN                    IT     High Net Worth   \n",
            "4         Senior Sales Associate                    IT      Mass Customer   \n",
            "...                          ...                   ...                ...   \n",
            "3995          Recruiting Manager                   NaN      Mass Customer   \n",
            "3996  Computer Systems Analyst I                Health      Mass Customer   \n",
            "3997               Senior Editor                   NaN  Affluent Customer   \n",
            "3998             Web Designer IV         Manufacturing     High Net Worth   \n",
            "3999             Statistician II         Manufacturing     High Net Worth   \n",
            "\n",
            "     deceased_indicator owns_car  tenure  \n",
            "0                     N       No    20.0  \n",
            "1                     N       No     NaN  \n",
            "2                     N      Yes     NaN  \n",
            "3                     N       No     NaN  \n",
            "4                     N       No     NaN  \n",
            "...                 ...      ...     ...  \n",
            "3995                  N      Yes     1.0  \n",
            "3996                  N      Yes     1.0  \n",
            "3997                  N       No     1.0  \n",
            "3998                  N      Yes     1.0  \n",
            "3999                  N      Yes     1.0  \n",
            "\n",
            "[4000 rows x 12 columns]\n"
          ]
        }
      ]
    },
    {
      "cell_type": "code",
      "source": [
        "print(cust_trans)"
      ],
      "metadata": {
        "colab": {
          "base_uri": "https://localhost:8080/"
        },
        "id": "R8nUt7xUfJB3",
        "outputId": "bfe4bbb4-902c-46dd-9080-5e9a9f5ae5e6"
      },
      "execution_count": null,
      "outputs": [
        {
          "output_type": "stream",
          "name": "stdout",
          "text": [
            "       transaction_id  product_id  customer_id transaction_date online_order  \\\n",
            "0                   1           2         2950       25/02/2017        False   \n",
            "1                   2           3         3120       21/05/2017         True   \n",
            "2                   3          37          402       16/10/2017        False   \n",
            "3                   4          88         3135       31/08/2017        False   \n",
            "4                   5          78          787       01/10/2017         True   \n",
            "...               ...         ...          ...              ...          ...   \n",
            "19995           19996          51         1018       24/06/2017         True   \n",
            "19996           19997          41          127       09/11/2017         True   \n",
            "19997           19998          87         2284       14/04/2017         True   \n",
            "19998           19999           6         2764       03/07/2017        False   \n",
            "19999           20000          11         1144       22/09/2017         True   \n",
            "\n",
            "      order_status           brand product_line product_class product_size  \\\n",
            "0         Approved           Solex     Standard        medium       medium   \n",
            "1         Approved   Trek Bicycles     Standard        medium        large   \n",
            "2         Approved      OHM Cycles     Standard           low       medium   \n",
            "3         Approved  Norco Bicycles     Standard        medium       medium   \n",
            "4         Approved  Giant Bicycles     Standard        medium        large   \n",
            "...            ...             ...          ...           ...          ...   \n",
            "19995     Approved      OHM Cycles     Standard          high       medium   \n",
            "19996     Approved           Solex         Road        medium       medium   \n",
            "19997     Approved      OHM Cycles     Standard        medium       medium   \n",
            "19998     Approved      OHM Cycles     Standard          high       medium   \n",
            "19999     Approved   Trek Bicycles     Standard        medium        small   \n",
            "\n",
            "       list_price standard_cost  product_first_sold_date  \n",
            "0           71.49        $53.62                  41245.0  \n",
            "1         2091.47       $388.92                  41701.0  \n",
            "2         1793.43       $248.82                  36361.0  \n",
            "3         1198.46       $381.10                  36145.0  \n",
            "4         1765.30       $709.48                  42226.0  \n",
            "...           ...           ...                      ...  \n",
            "19995     2005.66     $1,203.40                  37823.0  \n",
            "19996      416.98       $312.74                  35560.0  \n",
            "19997     1636.90        $44.71                  40410.0  \n",
            "19998      227.88       $136.73                  38216.0  \n",
            "19999     1775.81     $1,580.47                  36334.0  \n",
            "\n",
            "[20000 rows x 13 columns]\n"
          ]
        }
      ]
    },
    {
      "cell_type": "code",
      "source": [
        "common_column = 'customer_id'\n",
        "\n",
        "merged_data = pd.merge(cust_demo, cust_trans, on=common_column, how='inner')\n",
        "\n",
        "\n",
        "print(merged_data)"
      ],
      "metadata": {
        "id": "-50FZgVzfYpU",
        "outputId": "06d1f062-f6d8-49c5-927e-f98aa32324ca",
        "colab": {
          "base_uri": "https://localhost:8080/"
        }
      },
      "execution_count": null,
      "outputs": [
        {
          "output_type": "stream",
          "name": "stdout",
          "text": [
            "       customer_id               name  gender  \\\n",
            "0               34  Jephthah Bachmann       U   \n",
            "1               34  Jephthah Bachmann       U   \n",
            "2               34  Jephthah Bachmann       U   \n",
            "3               34  Jephthah Bachmann       U   \n",
            "4               34  Jephthah Bachmann       U   \n",
            "...            ...                ...     ...   \n",
            "19992         3435    Stevena Allcock  Female   \n",
            "19993         3435    Stevena Allcock  Female   \n",
            "19994         3435    Stevena Allcock  Female   \n",
            "19995         3435    Stevena Allcock  Female   \n",
            "19996         3435    Stevena Allcock  Female   \n",
            "\n",
            "       past_3_years_bike_related_purchases         DOB    age  \\\n",
            "0                                       59  1843-12-21  123.0   \n",
            "1                                       59  1843-12-21  123.0   \n",
            "2                                       59  1843-12-21  123.0   \n",
            "3                                       59  1843-12-21  123.0   \n",
            "4                                       59  1843-12-21  123.0   \n",
            "...                                    ...         ...    ...   \n",
            "19992                                   80  2002-01-15   21.0   \n",
            "19993                                   80  2002-01-15   21.0   \n",
            "19994                                   80  2002-01-15   21.0   \n",
            "19995                                   80  2002-01-15   21.0   \n",
            "19996                                   80  2002-01-15   21.0   \n",
            "\n",
            "             job_title job_industry_category     wealth_segment  \\\n",
            "0      Legal Assistant                    IT  Affluent Customer   \n",
            "1      Legal Assistant                    IT  Affluent Customer   \n",
            "2      Legal Assistant                    IT  Affluent Customer   \n",
            "3      Legal Assistant                    IT  Affluent Customer   \n",
            "4      Legal Assistant                    IT  Affluent Customer   \n",
            "...                ...                   ...                ...   \n",
            "19992    Senior Editor                   NaN  Affluent Customer   \n",
            "19993    Senior Editor                   NaN  Affluent Customer   \n",
            "19994    Senior Editor                   NaN  Affluent Customer   \n",
            "19995    Senior Editor                   NaN  Affluent Customer   \n",
            "19996    Senior Editor                   NaN  Affluent Customer   \n",
            "\n",
            "      deceased_indicator  ... transaction_date  online_order  order_status  \\\n",
            "0                      N  ...       01/07/2017          True      Approved   \n",
            "1                      N  ...       22/08/2017         False      Approved   \n",
            "2                      N  ...       07/04/2017         False      Approved   \n",
            "3                      N  ...       13/02/2017         False      Approved   \n",
            "4                      N  ...       25/06/2017          True      Approved   \n",
            "...                  ...  ...              ...           ...           ...   \n",
            "19992                  N  ...       05/07/2017          True      Approved   \n",
            "19993                  N  ...       28/06/2017          True      Approved   \n",
            "19994                  N  ...       16/08/2017         False      Approved   \n",
            "19995                  N  ...       03/01/2017          True      Approved   \n",
            "19996                  N  ...       02/02/2017         False      Approved   \n",
            "\n",
            "                brand product_line product_class product_size list_price  \\\n",
            "0               Solex         Road        medium        small    1703.52   \n",
            "1      Norco Bicycles     Standard           low       medium     958.74   \n",
            "2               Solex      Touring        medium        large    2083.94   \n",
            "3            WeareA2B     Standard        medium       medium    1231.15   \n",
            "4      Giant Bicycles     Standard          high        small    1977.36   \n",
            "...               ...          ...           ...          ...        ...   \n",
            "19992  Giant Bicycles     Standard        medium        large    1635.30   \n",
            "19993  Giant Bicycles         Road        medium       medium     792.90   \n",
            "19994           Solex     Standard        medium       medium    1163.89   \n",
            "19995           Solex     Standard        medium        large    1071.23   \n",
            "19996   Trek Bicycles         Road           low        small    1720.70   \n",
            "\n",
            "      standard_cost product_first_sold_date  \n",
            "0         $1,516.13                 40649.0  \n",
            "1           $748.90                 38693.0  \n",
            "2           $675.03                 41533.0  \n",
            "3           $161.60                 38216.0  \n",
            "4         $1,759.85                 40779.0  \n",
            "...             ...                     ...  \n",
            "19992       $993.66                 41434.0  \n",
            "19993       $594.68                 33879.0  \n",
            "19994       $589.27                 42560.0  \n",
            "19995       $380.74                 35160.0  \n",
            "19996     $1,531.42                 38991.0  \n",
            "\n",
            "[19997 rows x 24 columns]\n"
          ]
        }
      ]
    },
    {
      "cell_type": "markdown",
      "source": [
        "# Question 3\n",
        "\n",
        "For this question you will need to import the dataset from the following link -\n",
        "\n",
        "https://raw.githubusercontent.com/pallavrouth/MarketingAnalytics/main/datasets/clickad.csv\n",
        "\n",
        "Your task is to create an appropriate model for predicting the tendency to click on an ad. You are free to use any number of independent variables from the dataset above as predictors.\n",
        "\n",
        "Next, create two other alternative models. Compare the prediction performance of all the models and comment on which model should be picked. You must fine tune models whenever possible."
      ],
      "metadata": {
        "id": "YZw4KjMbx58s"
      }
    }
  ]
}