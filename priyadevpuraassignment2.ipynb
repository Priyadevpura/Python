{
  "nbformat": 4,
  "nbformat_minor": 0,
  "metadata": {
    "colab": {
      "provenance": []
    },
    "kernelspec": {
      "name": "python3",
      "display_name": "Python 3"
    },
    "language_info": {
      "name": "python"
    }
  },
  "cells": [
    {
      "cell_type": "code",
      "execution_count": 41,
      "metadata": {
        "colab": {
          "base_uri": "https://localhost:8080/"
        },
        "id": "NAzTf1H8eRiT",
        "outputId": "ca423019-a3b0-4007-8be3-97c077f47a61"
      },
      "outputs": [
        {
          "output_type": "stream",
          "name": "stdout",
          "text": [
            "Type of Population Series: <class 'pandas.core.series.Series'>\n",
            "Type of DataFrame: <class 'pandas.core.frame.DataFrame'>\n"
          ]
        }
      ],
      "source": [
        "# question 1\n",
        "\n",
        "import pandas as pd\n",
        "\n",
        "# Creating a Pandas Series for population\n",
        "population_data = {'Country A': 1000000, 'Country B': 1500000, 'Country C': 800000}\n",
        "population_series = pd.Series(population_data, name='Population')\n",
        "\n",
        "# Creating a Pandas DataFrame for population and GDP data\n",
        "data = {\n",
        "    'Country': ['Country A', 'Country B', 'Country C'],\n",
        "    'Population': [1000000, 1500000, 800000],\n",
        "    'GDP (in USD)': [200000, 300000, 150000]\n",
        "}\n",
        "df = pd.DataFrame(data)\n",
        "\n",
        "# Printing the types of the Series and DataFrame\n",
        "print(\"Type of Population Series:\", type(population_series))\n",
        "print(\"Type of DataFrame:\", type(df))"
      ]
    },
    {
      "cell_type": "code",
      "source": [
        "#question 2\n",
        "import pandas as pd\n",
        "\n",
        "customer_data= pd.read_csv(\"customer_transactions.csv\")\n",
        "print(\"Number if rows and colums:\", customer_data.shape)\n",
        "print(\"colum names and data types\")\n",
        "print(customer_data.dtypes)"
      ],
      "metadata": {
        "colab": {
          "base_uri": "https://localhost:8080/"
        },
        "id": "gC_2SWsEazfb",
        "outputId": "6d6ad911-e476-4b43-c397-b2a4812705ba"
      },
      "execution_count": 8,
      "outputs": [
        {
          "output_type": "stream",
          "name": "stdout",
          "text": [
            "Number if rows and colums: (20000, 13)\n",
            "colum names and data types\n",
            "transaction_id               int64\n",
            "product_id                   int64\n",
            "customer_id                  int64\n",
            "transaction_date            object\n",
            "online_order                object\n",
            "order_status                object\n",
            "brand                       object\n",
            "product_line                object\n",
            "product_class               object\n",
            "product_size                object\n",
            "list_price                 float64\n",
            "standard_cost               object\n",
            "product_first_sold_date    float64\n",
            "dtype: object\n"
          ]
        }
      ]
    },
    {
      "cell_type": "code",
      "source": [
        "#question 3\n",
        "unique_customers = df['customer_id'].nunique()\n",
        "print(\"number of unique customer:\", unique_customers)\n"
      ],
      "metadata": {
        "colab": {
          "base_uri": "https://localhost:8080/"
        },
        "id": "dbJ52M6CMjPj",
        "outputId": "654c51f8-7fef-443a-fc4c-93499fbe62f8"
      },
      "execution_count": 9,
      "outputs": [
        {
          "output_type": "stream",
          "name": "stdout",
          "text": [
            "number of unique customer: 3494\n"
          ]
        }
      ]
    },
    {
      "cell_type": "code",
      "source": [
        "min_date = df['transaction_date'].min()\n",
        "max_date = df['transaction_date'].max()\n",
        "print(\"Range of transaction Dates:\", min_date,\"to\", max_date)"
      ],
      "metadata": {
        "colab": {
          "base_uri": "https://localhost:8080/"
        },
        "id": "MLwDTXNDNKuF",
        "outputId": "c79955fb-2e9e-499e-9c21-23483fff9107"
      },
      "execution_count": 13,
      "outputs": [
        {
          "output_type": "stream",
          "name": "stdout",
          "text": [
            "Range of transaction Dates: 01/01/2017 to 31/10/2017\n"
          ]
        }
      ]
    },
    {
      "cell_type": "code",
      "source": [
        "online_orders = df[df['order_status'] == 'online']\n",
        "num_online_orders = online_orders.shape[0]\n",
        "print(\"Number of Online Orders:\", num_online_orders)"
      ],
      "metadata": {
        "colab": {
          "base_uri": "https://localhost:8080/"
        },
        "id": "1ftujEP0PNQF",
        "outputId": "18cc4900-88ab-4445-9876-80929b5d5aa6"
      },
      "execution_count": 14,
      "outputs": [
        {
          "output_type": "stream",
          "name": "stdout",
          "text": [
            "Number of Online Orders: 0\n"
          ]
        }
      ]
    },
    {
      "cell_type": "code",
      "source": [
        "unique_brands = df['brand'].nunique()\n",
        "brand_percentage = (df['brand'].value_counts() / len(df)) * 100\n",
        "\n",
        "print(\"Number of Different Brands:\", unique_brands)\n",
        "print(\"Brand Percentage:\")\n",
        "print(brand_percentage)"
      ],
      "metadata": {
        "colab": {
          "base_uri": "https://localhost:8080/"
        },
        "id": "hQodzJoBSd92",
        "outputId": "0401316f-9360-4777-cd75-742931115265"
      },
      "execution_count": 15,
      "outputs": [
        {
          "output_type": "stream",
          "name": "stdout",
          "text": [
            "Number of Different Brands: 6\n",
            "Brand Percentage:\n",
            "Solex             21.265\n",
            "Giant Bicycles    16.560\n",
            "WeareA2B          16.475\n",
            "OHM Cycles        15.215\n",
            "Trek Bicycles     14.950\n",
            "Norco Bicycles    14.550\n",
            "Name: brand, dtype: float64\n"
          ]
        }
      ]
    },
    {
      "cell_type": "code",
      "source": [
        "unique_product_lines = df['product_line'].nunique()\n",
        "product_line_percentage = (df['product_line'].value_counts() / len(df)) * 100\n",
        "\n",
        "print(\"Number of Different Product Lines:\", unique_product_lines)\n",
        "print(\"Product Line Percentage:\")\n",
        "print(product_line_percentage)"
      ],
      "metadata": {
        "colab": {
          "base_uri": "https://localhost:8080/"
        },
        "id": "0OZsLd4RSq2C",
        "outputId": "348ebced-ecf2-4d7d-89d1-2fb22469e1cf"
      },
      "execution_count": 18,
      "outputs": [
        {
          "output_type": "stream",
          "name": "stdout",
          "text": [
            "Number of Different Product Lines: 4\n",
            "Product Line Percentage:\n",
            "Standard    70.880\n",
            "Road        19.850\n",
            "Touring      6.170\n",
            "Mountain     2.115\n",
            "Name: product_line, dtype: float64\n"
          ]
        }
      ]
    },
    {
      "cell_type": "code",
      "source": [
        "unique_product_classes = df['product_class'].nunique()\n",
        "product_class_percentage = (df['product_class'].value_counts() / len(df)) * 100\n",
        "\n",
        "print(\"Number of Different Product Classes:\", unique_product_classes)\n",
        "print(\"Product Class Percentage:\")\n",
        "print(product_class_percentage)"
      ],
      "metadata": {
        "colab": {
          "base_uri": "https://localhost:8080/"
        },
        "id": "-vhP1Yv2SwTP",
        "outputId": "8f2ddf55-fdbc-4d14-f016-718888043947"
      },
      "execution_count": 17,
      "outputs": [
        {
          "output_type": "stream",
          "name": "stdout",
          "text": [
            "Number of Different Product Classes: 3\n",
            "Product Class Percentage:\n",
            "medium    69.130\n",
            "high      15.065\n",
            "low       14.820\n",
            "Name: product_class, dtype: float64\n"
          ]
        }
      ]
    },
    {
      "cell_type": "code",
      "source": [
        "#question 4\n",
        "missing_values = df.isna().sum()\n",
        "print(\"Missing Values in Each Column:\")\n",
        "print(missing_values)"
      ],
      "metadata": {
        "colab": {
          "base_uri": "https://localhost:8080/"
        },
        "id": "k5k1F-TUSzMq",
        "outputId": "e74394e8-82e8-4cbe-a075-7088333ccb3b"
      },
      "execution_count": 16,
      "outputs": [
        {
          "output_type": "stream",
          "name": "stdout",
          "text": [
            "Missing Values in Each Column:\n",
            "transaction_id               0\n",
            "product_id                   0\n",
            "customer_id                  0\n",
            "transaction_date             0\n",
            "online_order               360\n",
            "order_status                 0\n",
            "brand                      197\n",
            "product_line               197\n",
            "product_class              197\n",
            "product_size               197\n",
            "list_price                   0\n",
            "standard_cost              197\n",
            "product_first_sold_date    197\n",
            "dtype: int64\n"
          ]
        }
      ]
    },
    {
      "cell_type": "code",
      "source": [
        "duplicated_rows = df[df.duplicated()]\n",
        "print(\"Duplicated Rows:\")\n",
        "print(duplicated_rows)"
      ],
      "metadata": {
        "colab": {
          "base_uri": "https://localhost:8080/"
        },
        "id": "sAyQs7nETFnz",
        "outputId": "156e99db-f0b9-4d4c-eb45-d31c1cf1c20b"
      },
      "execution_count": 19,
      "outputs": [
        {
          "output_type": "stream",
          "name": "stdout",
          "text": [
            "Duplicated Rows:\n",
            "Empty DataFrame\n",
            "Columns: [transaction_id, product_id, customer_id, transaction_date, online_order, order_status, brand, product_line, product_class, product_size, list_price, standard_cost, product_first_sold_date]\n",
            "Index: []\n"
          ]
        }
      ]
    },
    {
      "cell_type": "code",
      "source": [
        "df = df.rename(columns={'brand': 'brand_names'})"
      ],
      "metadata": {
        "id": "2AdgcrTRTIrM"
      },
      "execution_count": 22,
      "outputs": []
    },
    {
      "cell_type": "code",
      "source": [
        "#question 5\n",
        "approved_data = df[df['order_status'] == 'approved']\n",
        "selected_columns = approved_data[['customer_id', 'transaction_date', 'order_status']]\n",
        "print(selected_columns.head(10))\n",
        "new_dataset = selected_columns"
      ],
      "metadata": {
        "colab": {
          "base_uri": "https://localhost:8080/"
        },
        "id": "GSlloacDTMVf",
        "outputId": "dbb7a547-6ec5-497f-d96c-061ffc24b56e"
      },
      "execution_count": 21,
      "outputs": [
        {
          "output_type": "stream",
          "name": "stdout",
          "text": [
            "Empty DataFrame\n",
            "Columns: [customer_id, transaction_date, order_status]\n",
            "Index: []\n"
          ]
        }
      ]
    },
    {
      "cell_type": "code",
      "source": [
        "#question 6\n",
        "approved_data['transaction_date'] = pd.to_datetime(approved_data['transaction_date'])\n",
        "approved_data['year'] = approved_data['transaction_date'].dt.year\n",
        "approved_data['month'] = approved_data['transaction_date'].dt.month\n",
        "unique_customers_by_month_year = approved_data.groupby(['year', 'month'])['customer_id'].nunique()\n",
        "print(unique_customers_by_month_year)"
      ],
      "metadata": {
        "colab": {
          "base_uri": "https://localhost:8080/"
        },
        "id": "ZiH611KMTSLP",
        "outputId": "e24ae269-ba8b-45d4-ff10-8774dfe6279c"
      },
      "execution_count": 36,
      "outputs": [
        {
          "output_type": "stream",
          "name": "stdout",
          "text": [
            "Series([], Name: customer_id, dtype: int64)\n"
          ]
        }
      ]
    },
    {
      "cell_type": "code",
      "source": [],
      "metadata": {
        "id": "gbJvglcU90zW"
      },
      "execution_count": null,
      "outputs": []
    },
    {
      "cell_type": "code",
      "source": [
        "standard_products = df[df['product_line'] == 'standard']\n",
        "\n",
        "# Create a column to categorize list prices as high or low\n",
        "cutoff_price = 20  # You can adjust this cutoff as needed\n",
        "standard_products['price_category'] = standard_products['list_price'].apply(lambda x: 'High' if x > cutoff_price else 'Low')\n",
        "\n",
        "# Convert the purchase date to a datetime object (if it's not already)\n",
        "standard_products['transaction_date'] = pd.to_datetime(standard_products['transaction_date'])\n",
        "\n",
        "# Extract month and year from the purchase date\n",
        "standard_products['year'] = standard_products['transaction_date'].pd.year\n",
        "standard_products['month'] = standard_products['transaction_date'].pd.month\n",
        "\n",
        "# Group by Year, Month, and Price Category\n",
        "price_summary = standard_products.groupby(['Year', 'Month', 'Price_Category'])['List_Price'].mean().reset_index()\n",
        "\n",
        "print(standard_products['product_first_sold_date'])"
      ],
      "metadata": {
        "colab": {
          "base_uri": "https://localhost:8080/",
          "height": 375
        },
        "id": "WPh6ApTI7hZP",
        "outputId": "17a5ae1f-35b9-4da6-cf1a-3a120b490de9"
      },
      "execution_count": 40,
      "outputs": [
        {
          "output_type": "error",
          "ename": "AttributeError",
          "evalue": "ignored",
          "traceback": [
            "\u001b[0;31m---------------------------------------------------------------------------\u001b[0m",
            "\u001b[0;31mAttributeError\u001b[0m                            Traceback (most recent call last)",
            "\u001b[0;32m<ipython-input-40-de5afe92d92c>\u001b[0m in \u001b[0;36m<cell line: 11>\u001b[0;34m()\u001b[0m\n\u001b[1;32m      9\u001b[0m \u001b[0;34m\u001b[0m\u001b[0m\n\u001b[1;32m     10\u001b[0m \u001b[0;31m# Extract month and year from the purchase date\u001b[0m\u001b[0;34m\u001b[0m\u001b[0;34m\u001b[0m\u001b[0m\n\u001b[0;32m---> 11\u001b[0;31m \u001b[0mstandard_products\u001b[0m\u001b[0;34m[\u001b[0m\u001b[0;34m'year'\u001b[0m\u001b[0;34m]\u001b[0m \u001b[0;34m=\u001b[0m \u001b[0mstandard_products\u001b[0m\u001b[0;34m[\u001b[0m\u001b[0;34m'transaction_date'\u001b[0m\u001b[0;34m]\u001b[0m\u001b[0;34m.\u001b[0m\u001b[0mpd\u001b[0m\u001b[0;34m.\u001b[0m\u001b[0myear\u001b[0m\u001b[0;34m\u001b[0m\u001b[0;34m\u001b[0m\u001b[0m\n\u001b[0m\u001b[1;32m     12\u001b[0m \u001b[0mstandard_products\u001b[0m\u001b[0;34m[\u001b[0m\u001b[0;34m'month'\u001b[0m\u001b[0;34m]\u001b[0m \u001b[0;34m=\u001b[0m \u001b[0mstandard_products\u001b[0m\u001b[0;34m[\u001b[0m\u001b[0;34m'transaction_date'\u001b[0m\u001b[0;34m]\u001b[0m\u001b[0;34m.\u001b[0m\u001b[0mpd\u001b[0m\u001b[0;34m.\u001b[0m\u001b[0mmonth\u001b[0m\u001b[0;34m\u001b[0m\u001b[0;34m\u001b[0m\u001b[0m\n\u001b[1;32m     13\u001b[0m \u001b[0;34m\u001b[0m\u001b[0m\n",
            "\u001b[0;32m/usr/local/lib/python3.10/dist-packages/pandas/core/generic.py\u001b[0m in \u001b[0;36m__getattr__\u001b[0;34m(self, name)\u001b[0m\n\u001b[1;32m   5900\u001b[0m         ):\n\u001b[1;32m   5901\u001b[0m             \u001b[0;32mreturn\u001b[0m \u001b[0mself\u001b[0m\u001b[0;34m[\u001b[0m\u001b[0mname\u001b[0m\u001b[0;34m]\u001b[0m\u001b[0;34m\u001b[0m\u001b[0;34m\u001b[0m\u001b[0m\n\u001b[0;32m-> 5902\u001b[0;31m         \u001b[0;32mreturn\u001b[0m \u001b[0mobject\u001b[0m\u001b[0;34m.\u001b[0m\u001b[0m__getattribute__\u001b[0m\u001b[0;34m(\u001b[0m\u001b[0mself\u001b[0m\u001b[0;34m,\u001b[0m \u001b[0mname\u001b[0m\u001b[0;34m)\u001b[0m\u001b[0;34m\u001b[0m\u001b[0;34m\u001b[0m\u001b[0m\n\u001b[0m\u001b[1;32m   5903\u001b[0m \u001b[0;34m\u001b[0m\u001b[0m\n\u001b[1;32m   5904\u001b[0m     \u001b[0;32mdef\u001b[0m \u001b[0m__setattr__\u001b[0m\u001b[0;34m(\u001b[0m\u001b[0mself\u001b[0m\u001b[0;34m,\u001b[0m \u001b[0mname\u001b[0m\u001b[0;34m:\u001b[0m \u001b[0mstr\u001b[0m\u001b[0;34m,\u001b[0m \u001b[0mvalue\u001b[0m\u001b[0;34m)\u001b[0m \u001b[0;34m->\u001b[0m \u001b[0;32mNone\u001b[0m\u001b[0;34m:\u001b[0m\u001b[0;34m\u001b[0m\u001b[0;34m\u001b[0m\u001b[0m\n",
            "\u001b[0;31mAttributeError\u001b[0m: 'Series' object has no attribute 'pd'"
          ]
        }
      ]
    }
  ]
}